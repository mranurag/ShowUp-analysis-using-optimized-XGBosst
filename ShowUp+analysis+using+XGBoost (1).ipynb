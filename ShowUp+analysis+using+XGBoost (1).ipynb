{
 "cells": [
  {
   "cell_type": "code",
   "execution_count": 1,
   "metadata": {
    "collapsed": true
   },
   "outputs": [],
   "source": [
    "import os\n",
    "\n",
    "mingw_path = 'C:\\\\Program Files\\\\mingw-w64\\\\x86_64-5.3.0-posix-seh-rt_v4-rev0\\\\mingw64\\\\bin'\n",
    "\n",
    "os.environ['PATH'] = mingw_path + ';' + os.environ['PATH']"
   ]
  },
  {
   "cell_type": "code",
   "execution_count": 2,
   "metadata": {
    "collapsed": true
   },
   "outputs": [],
   "source": [
    "import xgboost as xgb\n",
    "import numpy as np"
   ]
  },
  {
   "cell_type": "code",
   "execution_count": 3,
   "metadata": {
    "collapsed": true
   },
   "outputs": [],
   "source": [
    "\n",
    "from imblearn.over_sampling import SMOTE"
   ]
  },
  {
   "cell_type": "code",
   "execution_count": 4,
   "metadata": {
    "collapsed": true
   },
   "outputs": [],
   "source": [
    "import pandas as pd\n",
    "import numpy as np\n",
    "import matplotlib.pyplot as plt\n",
    "import seaborn as sns\n",
    "from xgboost import XGBClassifier\n",
    "%matplotlib inline"
   ]
  },
  {
   "cell_type": "code",
   "execution_count": 5,
   "metadata": {
    "collapsed": true
   },
   "outputs": [],
   "source": [
    "#importing the data\n",
    "data =pd.read_csv(\"D:/Hackethon/AppointMentNoShow/data.csv\",na_values=[\" \",np.nan,\"NA\"])\n",
    "data.head()\n",
    "data = data.drop(\"AppointmentID\",1)\n",
    "\n",
    "#lets convert the time fiels to time format\n",
    "data.ScheduledDay = pd.to_datetime(data.ScheduledDay)\n",
    "data.AppointmentDay = pd.to_datetime(data.AppointmentDay)\n",
    "from datetime import datetime\n",
    "data[\"daysToappointment\"]= (data.AppointmentDay-data.ScheduledDay).dt.days +1\n",
    "#Getting hour of booking\n",
    "def houroftheday(timestamp):\n",
    "#     converting to string so that the hours can be picked using the character index\n",
    "    timestamp = str(timestamp)\n",
    "    hour = int(timestamp[11:13])\n",
    "    minute =int(timestamp[14:16])\n",
    "    seconds = int(timestamp[17:])\n",
    "    Hour = round(hour +(minute/60) +(seconds/3600))\n",
    "    return Hour\n",
    "\n",
    "data[\"hourOfBooking\"] = data.ScheduledDay.apply(houroftheday)\n"
   ]
  },
  {
   "cell_type": "code",
   "execution_count": 8,
   "metadata": {
    "collapsed": false
   },
   "outputs": [
    {
     "data": {
      "text/plain": [
       "<seaborn.axisgrid.PairGrid at 0x2784006cf98>"
      ]
     },
     "execution_count": 8,
     "metadata": {},
     "output_type": "execute_result"
    },
    {
     "data": {
      "image/png": "[encoded data removed]",
      "text/plain": [
       "<matplotlib.figure.Figure at 0x2783ef257f0>"
      ]
     },
     "metadata": {},
     "output_type": "display_data"
    }
   ],
   "source": [
    "sns.pairplot(data[[\"Age\",\"No_show\"]],hue=\"No_show\",size=5)"
   ]
  },
  {
   "cell_type": "code",
   "execution_count": 12,
   "metadata": {
    "collapsed": false
   },
   "outputs": [
    {
     "data": {
      "text/html": [
       "<div>\n",
       "<style>\n",
       "    .dataframe thead tr:only-child th {\n",
       "        text-align: right;\n",
       "    }\n",
       "\n",
       "    .dataframe thead th {\n",
       "        text-align: left;\n",
       "    }\n",
       "\n",
       "    .dataframe tbody tr th {\n",
       "        vertical-align: top;\n",
       "    }\n",
       "</style>\n",
       "<table border=\"1\" class=\"dataframe\">\n",
       "  <thead>\n",
       "    <tr style=\"text-align: right;\">\n",
       "      <th>Neighbourhood</th>\n",
       "      <th>AEROPORTO</th>\n",
       "      <th>ANDORINHAS</th>\n",
       "      <th>ANTÔNIO HONÓRIO</th>\n",
       "      <th>ARIOVALDO FAVALESSA</th>\n",
       "      <th>BARRO VERMELHO</th>\n",
       "      <th>BELA VISTA</th>\n",
       "      <th>BENTO FERREIRA</th>\n",
       "      <th>BOA VISTA</th>\n",
       "      <th>BONFIM</th>\n",
       "      <th>CARATOÍRA</th>\n",
       "      <th>...</th>\n",
       "      <th>SEGURANÇA DO LAR</th>\n",
       "      <th>SOLON BORGES</th>\n",
       "      <th>SÃO BENEDITO</th>\n",
       "      <th>SÃO CRISTÓVÃO</th>\n",
       "      <th>SÃO JOSÉ</th>\n",
       "      <th>SÃO PEDRO</th>\n",
       "      <th>TABUAZEIRO</th>\n",
       "      <th>UNIVERSITÁRIO</th>\n",
       "      <th>VILA RUBIM</th>\n",
       "      <th>All</th>\n",
       "    </tr>\n",
       "    <tr>\n",
       "      <th>No_show</th>\n",
       "      <th></th>\n",
       "      <th></th>\n",
       "      <th></th>\n",
       "      <th></th>\n",
       "      <th></th>\n",
       "      <th></th>\n",
       "      <th></th>\n",
       "      <th></th>\n",
       "      <th></th>\n",
       "      <th></th>\n",
       "      <th></th>\n",
       "      <th></th>\n",
       "      <th></th>\n",
       "      <th></th>\n",
       "      <th></th>\n",
       "      <th></th>\n",
       "      <th></th>\n",
       "      <th></th>\n",
       "      <th></th>\n",
       "      <th></th>\n",
       "      <th></th>\n",
       "    </tr>\n",
       "  </thead>\n",
       "  <tbody>\n",
       "    <tr>\n",
       "      <th>No</th>\n",
       "      <td>7</td>\n",
       "      <td>1741</td>\n",
       "      <td>221</td>\n",
       "      <td>220</td>\n",
       "      <td>332</td>\n",
       "      <td>1523</td>\n",
       "      <td>665</td>\n",
       "      <td>254</td>\n",
       "      <td>2223</td>\n",
       "      <td>1974</td>\n",
       "      <td>...</td>\n",
       "      <td>117</td>\n",
       "      <td>400</td>\n",
       "      <td>1152</td>\n",
       "      <td>1473</td>\n",
       "      <td>1549</td>\n",
       "      <td>1933</td>\n",
       "      <td>2559</td>\n",
       "      <td>120</td>\n",
       "      <td>710</td>\n",
       "      <td>88208</td>\n",
       "    </tr>\n",
       "    <tr>\n",
       "      <th>Yes</th>\n",
       "      <td>1</td>\n",
       "      <td>521</td>\n",
       "      <td>50</td>\n",
       "      <td>62</td>\n",
       "      <td>91</td>\n",
       "      <td>384</td>\n",
       "      <td>193</td>\n",
       "      <td>58</td>\n",
       "      <td>550</td>\n",
       "      <td>591</td>\n",
       "      <td>...</td>\n",
       "      <td>28</td>\n",
       "      <td>69</td>\n",
       "      <td>287</td>\n",
       "      <td>363</td>\n",
       "      <td>428</td>\n",
       "      <td>515</td>\n",
       "      <td>573</td>\n",
       "      <td>32</td>\n",
       "      <td>141</td>\n",
       "      <td>22319</td>\n",
       "    </tr>\n",
       "    <tr>\n",
       "      <th>All</th>\n",
       "      <td>8</td>\n",
       "      <td>2262</td>\n",
       "      <td>271</td>\n",
       "      <td>282</td>\n",
       "      <td>423</td>\n",
       "      <td>1907</td>\n",
       "      <td>858</td>\n",
       "      <td>312</td>\n",
       "      <td>2773</td>\n",
       "      <td>2565</td>\n",
       "      <td>...</td>\n",
       "      <td>145</td>\n",
       "      <td>469</td>\n",
       "      <td>1439</td>\n",
       "      <td>1836</td>\n",
       "      <td>1977</td>\n",
       "      <td>2448</td>\n",
       "      <td>3132</td>\n",
       "      <td>152</td>\n",
       "      <td>851</td>\n",
       "      <td>110527</td>\n",
       "    </tr>\n",
       "  </tbody>\n",
       "</table>\n",
       "<p>3 rows × 82 columns</p>\n",
       "</div>"
      ],
      "text/plain": [
       "Neighbourhood  AEROPORTO  ANDORINHAS  ANTÔNIO HONÓRIO  ARIOVALDO FAVALESSA  \\\n",
       "No_show                                                                      \n",
       "No                     7        1741              221                  220   \n",
       "Yes                    1         521               50                   62   \n",
       "All                    8        2262              271                  282   \n",
       "\n",
       "Neighbourhood  BARRO VERMELHO  BELA VISTA  BENTO FERREIRA  BOA VISTA  BONFIM  \\\n",
       "No_show                                                                        \n",
       "No                        332        1523             665        254    2223   \n",
       "Yes                        91         384             193         58     550   \n",
       "All                       423        1907             858        312    2773   \n",
       "\n",
       "Neighbourhood  CARATOÍRA   ...    SEGURANÇA DO LAR  SOLON BORGES  \\\n",
       "No_show                    ...                                     \n",
       "No                  1974   ...                 117           400   \n",
       "Yes                  591   ...                  28            69   \n",
       "All                 2565   ...                 145           469   \n",
       "\n",
       "Neighbourhood  SÃO BENEDITO  SÃO CRISTÓVÃO  SÃO JOSÉ  SÃO PEDRO  TABUAZEIRO  \\\n",
       "No_show                                                                       \n",
       "No                     1152           1473      1549       1933        2559   \n",
       "Yes                     287            363       428        515         573   \n",
       "All                    1439           1836      1977       2448        3132   \n",
       "\n",
       "Neighbourhood  UNIVERSITÁRIO  VILA RUBIM     All  \n",
       "No_show                                           \n",
       "No                       120         710   88208  \n",
       "Yes                       32         141   22319  \n",
       "All                      152         851  110527  \n",
       "\n",
       "[3 rows x 82 columns]"
      ]
     },
     "execution_count": 12,
     "metadata": {},
     "output_type": "execute_result"
    }
   ],
   "source": [
    "pd.crosstab(columns=data.Neighbourhood,index=data.No_show,margins=True)"
   ]
  },
  {
   "cell_type": "code",
   "execution_count": 5,
   "metadata": {
    "collapsed": false
   },
   "outputs": [
    {
     "name": "stdout",
     "output_type": "stream",
     "text": [
      "XGBClassifier(base_score=0.5, booster='gbtree', colsample_bylevel=1,\n",
      "       colsample_bytree=1, gamma=0, learning_rate=0.1, max_delta_step=0,\n",
      "       max_depth=3, min_child_weight=1, missing=None, n_estimators=100,\n",
      "       n_jobs=1, nthread=None, objective='binary:logistic', random_state=0,\n",
      "       reg_alpha=0, reg_lambda=1, scale_pos_weight=1, seed=None,\n",
      "       silent=True, subsample=1)\n"
     ]
    }
   ],
   "source": [
    "#importing the data\n",
    "data =pd.read_csv(\"D:/Hackethon/AppointMentNoShow/data.csv\",na_values=[\" \",np.nan,\"NA\"])\n",
    "data.head()\n",
    "data = data.drop(\"AppointmentID\",1)\n",
    "\n",
    "#lets convert the time fiels to time format\n",
    "data.ScheduledDay = pd.to_datetime(data.ScheduledDay)\n",
    "data.AppointmentDay = pd.to_datetime(data.AppointmentDay)\n",
    "from datetime import datetime\n",
    "data[\"daysToappointment\"]= (data.AppointmentDay-data.ScheduledDay).dt.days +1\n",
    "#Getting hour of booking\n",
    "def houroftheday(timestamp):\n",
    "#     converting to string so that the hours can be picked using the character index\n",
    "    timestamp = str(timestamp)\n",
    "    hour = int(timestamp[11:13])\n",
    "    minute =int(timestamp[14:16])\n",
    "    seconds = int(timestamp[17:])\n",
    "    Hour = round(hour +(minute/60) +(seconds/3600))\n",
    "    return Hour\n",
    "\n",
    "data[\"hourOfBooking\"] = data.ScheduledDay.apply(houroftheday)\n",
    "\n",
    "#there are very few people above 100 and  below 0\n",
    "data[\"falseAge\"] = 1\n",
    "data.loc[(data.Age>=0 ) & (data.Age<=100),\"falseAge\"]=0\n",
    "\n",
    "data[\"AgeCategory\"] = pd.cut(data[\"Age\"],bins =[-2,18,37,55,116],labels=[\"child\",\"young\",\"midage\",\"elder\"])\n",
    "\n",
    "#We see a few values are negative, removing them\n",
    "data = data[data.daysToappointment>=0]\n",
    "\n",
    "\n",
    "data[\"distantAppointment\"] = 1\n",
    "data.loc[(data.daysToappointment<=50),\"distantAppointment\"]=0\n",
    "data[\"daystoAppointmentcat\"] =pd.cut(data.daysToappointment,bins=[-1,2,4,15,50,180],labels=[\"urgent\",\"very near\",\"moderate\",\"distant\",\"far away\"])\n",
    "Y = data.No_show\n",
    "data =data.drop(\"No_show\",1)\n",
    "\n",
    "from sklearn.preprocessing import LabelEncoder\n",
    "from sklearn.model_selection import train_test_split\n",
    "from sklearn.metrics import confusion_matrix\n",
    "from sklearn.metrics import  accuracy_score\n",
    "from sklearn.preprocessing import OneHotEncoder\n",
    "from numpy import column_stack\n",
    "\n",
    "data =data.drop([\"PatientId\",\"Age\",\"Neighbourhood\",\"daysToappointment\",\"AppointmentDay\",\"ScheduledDay\"],1)\n",
    "\n",
    "data =data.values\n",
    "\n",
    "data =data.astype(str)\n",
    "Columns =[]\n",
    "labelEncoder =LabelEncoder()\n",
    "for i in range(data.shape[1]):\n",
    "    feature = labelEncoder.fit_transform(data[:,i])\n",
    "    feature = feature.reshape(data.shape[0],1)\n",
    "    oneHotEncoder = OneHotEncoder(sparse=False)\n",
    "    Feature_encoded = oneHotEncoder.fit_transform(feature)\n",
    "    Columns.append(Feature_encoded)\n",
    "X_Encoded = column_stack(Columns)\n",
    "\n",
    "TrainS = X_Encoded[:70000,:]\n",
    "TestS  =X_Encoded[70000:,:]\n",
    "\n",
    "Y_New = Y[:70000]\n",
    "\n",
    "Y_Trans = labelEncoder.fit_transform(Y_New)\n",
    "XTrain,XTest,YTrain,YTest = train_test_split(TrainS,Y_Trans,test_size = 0.2,random_state = 7)\n",
    "\n",
    "model = XGBClassifier()\n",
    "model.fit(XTrain,YTrain)\n",
    "print(model)\n",
    "\n"
   ]
  },
  {
   "cell_type": "code",
   "execution_count": 14,
   "metadata": {
    "collapsed": false
   },
   "outputs": [
    {
     "name": "stdout",
     "output_type": "stream",
     "text": [
      "Accuracy : 79.01%\n"
     ]
    }
   ],
   "source": [
    "predcited = model.predict(XTest)\n",
    "predctions  =[round(value) for value in predcited]\n",
    "accuracy = (accuracy_score(YTest,predctions))\n",
    "print(\"Accuracy : %.2f%%\"%(accuracy*100))\n"
   ]
  },
  {
   "cell_type": "code",
   "execution_count": 32,
   "metadata": {
    "collapsed": false
   },
   "outputs": [
    {
     "name": "stdout",
     "output_type": "stream",
     "text": [
      "Accuracy : 77.71%\n"
     ]
    }
   ],
   "source": [
    "from sklearn.ensemble import RandomForestClassifier\n",
    "from sklearn.metrics import roc_auc_score\n",
    "rfmodel = RandomForestClassifier()\n",
    "rfmodel.fit(XTrain,YTrain)\n",
    "\n",
    "predcited = rfmodel.predict(XTest)\n",
    "predctions  =[round(value) for value in predcited]\n",
    "accuracy = (accuracy_score(YTest,predctions))\n",
    "print(\"Accuracy : %.2f%%\"%(accuracy*100))           "
   ]
  },
  {
   "cell_type": "code",
   "execution_count": 33,
   "metadata": {
    "collapsed": false
   },
   "outputs": [
    {
     "name": "stdout",
     "output_type": "stream",
     "text": [
      "[[10647   415]\n",
      " [ 2706   232]]\n",
      "10647 415 2706 232\n",
      "             precision    recall  f1-score   support\n",
      "\n",
      "          0       0.80      0.96      0.87     11062\n",
      "          1       0.36      0.08      0.13      2938\n",
      "\n",
      "avg / total       0.71      0.78      0.72     14000\n",
      "\n"
     ]
    }
   ],
   "source": [
    "from sklearn.metrics import confusion_matrix\n",
    "Tp,FN,FP,TN =confusion_matrix(YTest,predctions).ravel()\n",
    "print (confusion_matrix(YTest,predctions))\n",
    "print (Tp,FN,FP,TN )\n",
    "from sklearn.metrics import classification_report\n",
    "print(classification_report(YTest,predctions))\n"
   ]
  },
  {
   "cell_type": "code",
   "execution_count": 16,
   "metadata": {
    "collapsed": false
   },
   "outputs": [
    {
     "data": {
      "text/plain": [
       "array([[44131,    26],\n",
       "       [11788,    55]], dtype=int64)"
      ]
     },
     "execution_count": 16,
     "metadata": {},
     "output_type": "execute_result"
    }
   ],
   "source": [
    "predcited = model.predict(XTrain)\n",
    "predctions  =[round(value) for value in predcited]\n",
    "confusion_matrix(YTrain,predctions)"
   ]
  },
  {
   "cell_type": "code",
   "execution_count": 20,
   "metadata": {
    "collapsed": true
   },
   "outputs": [],
   "source": [
    "Y_Trans = labelEncoder.fit_transform(Y[70000:])\n",
    "y_pred =model.predict(TestS)\n"
   ]
  },
  {
   "cell_type": "code",
   "execution_count": 22,
   "metadata": {
    "collapsed": false
   },
   "outputs": [
    {
     "data": {
      "text/plain": [
       "0.8142737278515374"
      ]
     },
     "execution_count": 22,
     "metadata": {},
     "output_type": "execute_result"
    }
   ],
   "source": [
    "accuracy_score(Y_Trans,y_pred)"
   ]
  },
  {
   "cell_type": "code",
   "execution_count": 23,
   "metadata": {
    "collapsed": false
   },
   "outputs": [
    {
     "data": {
      "text/plain": [
       "array([[32975,    14],\n",
       "       [ 7512,    21]], dtype=int64)"
      ]
     },
     "execution_count": 23,
     "metadata": {},
     "output_type": "execute_result"
    }
   ],
   "source": [
    "confusion_matrix(Y_Trans,y_pred)"
   ]
  },
  {
   "cell_type": "code",
   "execution_count": 24,
   "metadata": {
    "collapsed": false
   },
   "outputs": [
    {
     "data": {
      "text/html": [
       "<div>\n",
       "<style>\n",
       "    .dataframe thead tr:only-child th {\n",
       "        text-align: right;\n",
       "    }\n",
       "\n",
       "    .dataframe thead th {\n",
       "        text-align: left;\n",
       "    }\n",
       "\n",
       "    .dataframe tbody tr th {\n",
       "        vertical-align: top;\n",
       "    }\n",
       "</style>\n",
       "<table border=\"1\" class=\"dataframe\">\n",
       "  <thead>\n",
       "    <tr style=\"text-align: right;\">\n",
       "      <th>col_0</th>\n",
       "      <th>0</th>\n",
       "      <th>1</th>\n",
       "      <th>All</th>\n",
       "    </tr>\n",
       "    <tr>\n",
       "      <th>row_0</th>\n",
       "      <th></th>\n",
       "      <th></th>\n",
       "      <th></th>\n",
       "    </tr>\n",
       "  </thead>\n",
       "  <tbody>\n",
       "    <tr>\n",
       "      <th>0</th>\n",
       "      <td>32975</td>\n",
       "      <td>14</td>\n",
       "      <td>32989</td>\n",
       "    </tr>\n",
       "    <tr>\n",
       "      <th>1</th>\n",
       "      <td>7512</td>\n",
       "      <td>21</td>\n",
       "      <td>7533</td>\n",
       "    </tr>\n",
       "    <tr>\n",
       "      <th>All</th>\n",
       "      <td>40487</td>\n",
       "      <td>35</td>\n",
       "      <td>40522</td>\n",
       "    </tr>\n",
       "  </tbody>\n",
       "</table>\n",
       "</div>"
      ],
      "text/plain": [
       "col_0      0   1    All\n",
       "row_0                  \n",
       "0      32975  14  32989\n",
       "1       7512  21   7533\n",
       "All    40487  35  40522"
      ]
     },
     "execution_count": 24,
     "metadata": {},
     "output_type": "execute_result"
    }
   ],
   "source": [
    "pd.crosstab(Y_Trans,y_pred,margins=True)"
   ]
  },
  {
   "cell_type": "code",
   "execution_count": 19,
   "metadata": {
    "collapsed": false
   },
   "outputs": [
    {
     "name": "stdout",
     "output_type": "stream",
     "text": [
      "-0.470655205264 {'n_estimators': 250}\n"
     ]
    }
   ],
   "source": [
    "# performing the parameter tuning for XGBOOST\n",
    "\n",
    "#for number of trees wrt logloss\n",
    "from sklearn.model_selection import StratifiedKFold\n",
    "from sklearn.model_selection import GridSearchCV\n",
    "n_estimators = range(50,400,50)\n",
    "param_grid  =dict(n_estimators = n_estimators)\n",
    "KFold = StratifiedKFold(n_splits =10,shuffle =True,random_state=7)\n",
    "grid_search = GridSearchCV(model,param_grid,cv =KFold,scoring ='neg_log_loss',n_jobs=-1)\n",
    "results = grid_search.fit(XTrain,YTrain)\n",
    "print (results.best_score_,results.best_params_)"
   ]
  },
  {
   "cell_type": "raw",
   "metadata": {},
   "source": [
    "   "
   ]
  },
  {
   "cell_type": "code",
   "execution_count": 20,
   "metadata": {
    "collapsed": false
   },
   "outputs": [
    {
     "name": "stdout",
     "output_type": "stream",
     "text": [
      "-0.471328873788 0.00265207343892 {'n_estimators': 50}\n",
      "-0.470783093768 0.00308004923466 {'n_estimators': 100}\n",
      "-0.470696739292 0.00334634415492 {'n_estimators': 150}\n",
      "-0.470664461845 0.0034932650963 {'n_estimators': 200}\n",
      "-0.470655205264 0.00359298314669 {'n_estimators': 250}\n",
      "-0.470709758534 0.00365554191999 {'n_estimators': 300}\n",
      "-0.470750033264 0.00370337632556 {'n_estimators': 350}\n"
     ]
    }
   ],
   "source": [
    "means =results.cv_results_['mean_test_score']\n",
    "stds = results.cv_results_['std_test_score']\n",
    "params = results.cv_results_['params']\n",
    "\n",
    "for mean,std,param in zip(means,stds,params):\n",
    "    print(mean,std,param )"
   ]
  },
  {
   "cell_type": "code",
   "execution_count": 21,
   "metadata": {
    "collapsed": false
   },
   "outputs": [
    {
     "data": {
      "text/plain": [
       "<Container object of 3 artists>"
      ]
     },
     "execution_count": 21,
     "metadata": {},
     "output_type": "execute_result"
    },
    {
     "data": {
      "image/png": "[encoded data removed]",
      "text/plain": [
       "<matplotlib.figure.Figure at 0x24c1ac44b70>"
      ]
     },
     "metadata": {},
     "output_type": "display_data"
    }
   ],
   "source": [
    "plt.errorbar(n_estimators,means,yerr=stds)"
   ]
  },
  {
   "cell_type": "code",
   "execution_count": 22,
   "metadata": {
    "collapsed": false
   },
   "outputs": [
    {
     "name": "stdout",
     "output_type": "stream",
     "text": [
      "-0.470343279361 {'max_depth': 4}\n"
     ]
    }
   ],
   "source": [
    "# searching for the best tree depth\n",
    "max_depth = [2,4,6,8,10]\n",
    "param_grid  =dict(max_depth = max_depth)\n",
    "KFold = StratifiedKFold(n_splits =10,shuffle =True,random_state=7)\n",
    "grid_search = GridSearchCV(model,param_grid,cv =KFold,scoring ='neg_log_loss',n_jobs=-1)\n",
    "results = grid_search.fit(XTrain,YTrain)\n",
    "print (results.best_score_,results.best_params_)"
   ]
  },
  {
   "cell_type": "code",
   "execution_count": 26,
   "metadata": {
    "collapsed": false
   },
   "outputs": [
    {
     "data": {
      "text/plain": [
       "4"
      ]
     },
     "execution_count": 26,
     "metadata": {},
     "output_type": "execute_result"
    }
   ],
   "source": [
    "results.best_params_['max_depth']"
   ]
  },
  {
   "cell_type": "code",
   "execution_count": 30,
   "metadata": {
    "collapsed": false
   },
   "outputs": [
    {
     "data": {
      "text/plain": [
       "<Container object of 3 artists>"
      ]
     },
     "execution_count": 30,
     "metadata": {},
     "output_type": "execute_result"
    },
    {
     "data": {
      "image/png": "[encoded data removed]",
      "text/plain": [
       "<matplotlib.figure.Figure at 0x24c0cb67358>"
      ]
     },
     "metadata": {},
     "output_type": "display_data"
    }
   ],
   "source": [
    "means = results.cv_results_['mean_test_score']\n",
    "stds = results.cv_results_['std_test_score']\n",
    "params = results.cv_results_['params']\n",
    "\n",
    "plt.errorbar(max_depth,means,yerr=stds)"
   ]
  },
  {
   "cell_type": "code",
   "execution_count": 31,
   "metadata": {
    "collapsed": true
   },
   "outputs": [],
   "source": [
    "#optimizing both depth and number of trees\n",
    "max_depth =[1,2,3,4,5,6,7,8]\n",
    "n_estimators = [50,100,150,200,250,300,350,400]\n",
    "param_grid = dict(max_depth= max_depth,n_estimators = n_estimators)\n",
    "kFold = StratifiedKFold(n_splits=10,random_state=7,shuffle=True)\n",
    "grid_search = GridSearchCV(model,param_grid,scoring=\"neg_log_loss\",n_jobs=-1,cv=kFold)\n",
    "results = grid_search.fit(XTrain,YTrain)"
   ]
  },
  {
   "cell_type": "code",
   "execution_count": 32,
   "metadata": {
    "collapsed": false
   },
   "outputs": [
    {
     "name": "stdout",
     "output_type": "stream",
     "text": [
      "-0.47025611265 {'max_depth': 6, 'n_estimators': 50}\n"
     ]
    }
   ],
   "source": [
    "print (results.best_score_,results.best_params_)"
   ]
  },
  {
   "cell_type": "code",
   "execution_count": 34,
   "metadata": {
    "collapsed": false
   },
   "outputs": [
    {
     "data": {
      "text/plain": [
       "XGBClassifier(base_score=0.5, booster='gbtree', colsample_bylevel=1,\n",
       "       colsample_bytree=1, gamma=0, learning_rate=0.1, max_delta_step=0,\n",
       "       max_depth=6, min_child_weight=1, missing=None, n_estimators=50,\n",
       "       n_jobs=1, nthread=None, objective='binary:logistic', random_state=0,\n",
       "       reg_alpha=0, reg_lambda=1, scale_pos_weight=1, seed=None,\n",
       "       silent=True, subsample=1)"
      ]
     },
     "execution_count": 34,
     "metadata": {},
     "output_type": "execute_result"
    }
   ],
   "source": [
    "model = XGBClassifier(max_depth=6,n_estimators=50)\n",
    "model.fit(XTrain,YTrain)"
   ]
  },
  {
   "cell_type": "code",
   "execution_count": 33,
   "metadata": {
    "collapsed": false
   },
   "outputs": [
    {
     "name": "stdout",
     "output_type": "stream",
     "text": [
      "XGBClassifier(base_score=0.5, booster='gbtree', colsample_bylevel=1,\n",
      "       colsample_bytree=1, gamma=0, learning_rate=0.1, max_delta_step=0,\n",
      "       max_depth=3, min_child_weight=1, missing=None, n_estimators=100,\n",
      "       n_jobs=1, nthread=None, objective='binary:logistic', random_state=0,\n",
      "       reg_alpha=0, reg_lambda=1, scale_pos_weight=1, seed=None,\n",
      "       silent=True, subsample=1)\n"
     ]
    }
   ],
   "source": [
    "\n",
    "print(model)"
   ]
  },
  {
   "cell_type": "code",
   "execution_count": 35,
   "metadata": {
    "collapsed": false
   },
   "outputs": [
    {
     "name": "stdout",
     "output_type": "stream",
     "text": [
      "Accuracy : 78.96%\n"
     ]
    }
   ],
   "source": [
    "predcited = model.predict(XTest)\n",
    "predctions  =[round(value) for value in predcited]\n",
    "accuracy = (accuracy_score(YTest,predctions))\n",
    "print(\"Accuracy : %.2f%%\"%(accuracy*100))"
   ]
  },
  {
   "cell_type": "code",
   "execution_count": 36,
   "metadata": {
    "collapsed": false
   },
   "outputs": [
    {
     "data": {
      "text/plain": [
       "array([[11040,    22],\n",
       "       [ 2923,    15]], dtype=int64)"
      ]
     },
     "execution_count": 36,
     "metadata": {},
     "output_type": "execute_result"
    }
   ],
   "source": [
    "\n",
    "confusion_matrix(YTest,predctions)"
   ]
  },
  {
   "cell_type": "code",
   "execution_count": 46,
   "metadata": {
    "collapsed": false
   },
   "outputs": [
    {
     "data": {
      "text/html": [
       "<div>\n",
       "<style>\n",
       "    .dataframe thead tr:only-child th {\n",
       "        text-align: right;\n",
       "    }\n",
       "\n",
       "    .dataframe thead th {\n",
       "        text-align: left;\n",
       "    }\n",
       "\n",
       "    .dataframe tbody tr th {\n",
       "        vertical-align: top;\n",
       "    }\n",
       "</style>\n",
       "<table border=\"1\" class=\"dataframe\">\n",
       "  <thead>\n",
       "    <tr style=\"text-align: right;\">\n",
       "      <th>Predicted</th>\n",
       "      <th>0</th>\n",
       "      <th>1</th>\n",
       "      <th>All</th>\n",
       "    </tr>\n",
       "    <tr>\n",
       "      <th>Actual</th>\n",
       "      <th></th>\n",
       "      <th></th>\n",
       "      <th></th>\n",
       "    </tr>\n",
       "  </thead>\n",
       "  <tbody>\n",
       "    <tr>\n",
       "      <th>0</th>\n",
       "      <td>11040</td>\n",
       "      <td>22</td>\n",
       "      <td>11062</td>\n",
       "    </tr>\n",
       "    <tr>\n",
       "      <th>1</th>\n",
       "      <td>2923</td>\n",
       "      <td>15</td>\n",
       "      <td>2938</td>\n",
       "    </tr>\n",
       "    <tr>\n",
       "      <th>All</th>\n",
       "      <td>13963</td>\n",
       "      <td>37</td>\n",
       "      <td>14000</td>\n",
       "    </tr>\n",
       "  </tbody>\n",
       "</table>\n",
       "</div>"
      ],
      "text/plain": [
       "Predicted      0   1    All\n",
       "Actual                     \n",
       "0          11040  22  11062\n",
       "1           2923  15   2938\n",
       "All        13963  37  14000"
      ]
     },
     "execution_count": 46,
     "metadata": {},
     "output_type": "execute_result"
    }
   ],
   "source": [
    "pd.crosstab(YTest,predctions,rownames=['Actual'], colnames=['Predicted'], margins=True)"
   ]
  },
  {
   "cell_type": "code",
   "execution_count": 48,
   "metadata": {
    "collapsed": false
   },
   "outputs": [
    {
     "name": "stdout",
     "output_type": "stream",
     "text": [
      "0.9980112095461942\n"
     ]
    }
   ],
   "source": [
    "sensititvity = 11040/(11040+22)\n",
    "print(sensititvity)"
   ]
  },
  {
   "cell_type": "code",
   "execution_count": null,
   "metadata": {
    "collapsed": true
   },
   "outputs": [],
   "source": []
  },
  {
   "cell_type": "code",
   "execution_count": 49,
   "metadata": {
    "collapsed": false
   },
   "outputs": [
    {
     "name": "stdout",
     "output_type": "stream",
     "text": [
      "0.0051055139550714775\n"
     ]
    }
   ],
   "source": [
    "specificity = 15/(2923+15)\n",
    "print(specificity)"
   ]
  },
  {
   "cell_type": "code",
   "execution_count": 50,
   "metadata": {
    "collapsed": true
   },
   "outputs": [],
   "source": []
  },
  {
   "cell_type": "code",
   "execution_count": 51,
   "metadata": {
    "collapsed": false
   },
   "outputs": [
    {
     "name": "stdout",
     "output_type": "stream",
     "text": [
      "1.0031327176348679\n"
     ]
    }
   ],
   "source": [
    "positve_likelihood_Ratio =sensititvity/(1-specificity)\n",
    "print(positve_likelihood_Ratio)"
   ]
  },
  {
   "cell_type": "code",
   "execution_count": 52,
   "metadata": {
    "collapsed": false
   },
   "outputs": [
    {
     "name": "stdout",
     "output_type": "stream",
     "text": [
      "-194.47712890978121\n"
     ]
    }
   ],
   "source": [
    "Negative_likelihood_Ratio =1-sensititvity/(specificity)\n",
    "print(Negative_likelihood_Ratio)"
   ]
  },
  {
   "cell_type": "code",
   "execution_count": 53,
   "metadata": {
    "collapsed": false
   },
   "outputs": [
    {
     "name": "stdout",
     "output_type": "stream",
     "text": [
      "0.7906610327293562\n"
     ]
    }
   ],
   "source": [
    "#if the model predicts that customer will come, it is 79% certain that patient will comme\n",
    "PPV = 11040/(2923+11040)\n",
    "print(PPV)"
   ]
  },
  {
   "cell_type": "code",
   "execution_count": 55,
   "metadata": {
    "collapsed": false
   },
   "outputs": [
    {
     "name": "stdout",
     "output_type": "stream",
     "text": [
      "0.40540540540540543\n"
     ]
    }
   ],
   "source": [
    "# if the model says customer will not come/it is 41% certain that patient will not comme(not enough)\n",
    "NPV = 15/(15+22)\n",
    "print(NPV)"
   ]
  },
  {
   "cell_type": "code",
   "execution_count": 58,
   "metadata": {
    "collapsed": false
   },
   "outputs": [
    {
     "name": "stdout",
     "output_type": "stream",
     "text": [
      "Accuracy: 78.0 %\n"
     ]
    }
   ],
   "source": [
    "clf =  MultinomialNB().fit(XTrain, YTrain)\n",
    "print('Accuracy:', round(accuracy_score(YTest, \n",
    "                                        clf.predict(XTest)), 2) * 100, '%')"
   ]
  },
  {
   "cell_type": "code",
   "execution_count": 59,
   "metadata": {
    "collapsed": false
   },
   "outputs": [
    {
     "data": {
      "text/html": [
       "<div>\n",
       "<style>\n",
       "    .dataframe thead tr:only-child th {\n",
       "        text-align: right;\n",
       "    }\n",
       "\n",
       "    .dataframe thead th {\n",
       "        text-align: left;\n",
       "    }\n",
       "\n",
       "    .dataframe tbody tr th {\n",
       "        vertical-align: top;\n",
       "    }\n",
       "</style>\n",
       "<table border=\"1\" class=\"dataframe\">\n",
       "  <thead>\n",
       "    <tr style=\"text-align: right;\">\n",
       "      <th>Predicted</th>\n",
       "      <th>0</th>\n",
       "      <th>1</th>\n",
       "      <th>All</th>\n",
       "    </tr>\n",
       "    <tr>\n",
       "      <th>Actual</th>\n",
       "      <th></th>\n",
       "      <th></th>\n",
       "      <th></th>\n",
       "    </tr>\n",
       "  </thead>\n",
       "  <tbody>\n",
       "    <tr>\n",
       "      <th>0</th>\n",
       "      <td>10759</td>\n",
       "      <td>303</td>\n",
       "      <td>11062</td>\n",
       "    </tr>\n",
       "    <tr>\n",
       "      <th>1</th>\n",
       "      <td>2759</td>\n",
       "      <td>179</td>\n",
       "      <td>2938</td>\n",
       "    </tr>\n",
       "    <tr>\n",
       "      <th>All</th>\n",
       "      <td>13518</td>\n",
       "      <td>482</td>\n",
       "      <td>14000</td>\n",
       "    </tr>\n",
       "  </tbody>\n",
       "</table>\n",
       "</div>"
      ],
      "text/plain": [
       "Predicted      0    1    All\n",
       "Actual                      \n",
       "0          10759  303  11062\n",
       "1           2759  179   2938\n",
       "All        13518  482  14000"
      ]
     },
     "execution_count": 59,
     "metadata": {},
     "output_type": "execute_result"
    }
   ],
   "source": [
    "pd.crosstab(YTest,clf.predict(XTest),rownames=['Actual'], colnames=['Predicted'], margins=True)"
   ]
  },
  {
   "cell_type": "code",
   "execution_count": null,
   "metadata": {
    "collapsed": true
   },
   "outputs": [],
   "source": [
    "# 10759 , 327 , 2759 , 200"
   ]
  },
  {
   "cell_type": "code",
   "execution_count": 60,
   "metadata": {
    "collapsed": false
   },
   "outputs": [
    {
     "name": "stdout",
     "output_type": "stream",
     "text": [
      "0.7959017606154757\n"
     ]
    }
   ],
   "source": [
    "#if the model predicts that customer will come, it is 80% certain that patient will comme\n",
    "PPV = 10759/(2759+10759)\n",
    "print(PPV)"
   ]
  },
  {
   "cell_type": "code",
   "execution_count": 62,
   "metadata": {
    "collapsed": false
   },
   "outputs": [
    {
     "name": "stdout",
     "output_type": "stream",
     "text": [
      "0.3795066413662239\n"
     ]
    }
   ],
   "source": [
    "# if the model says customer will not come/it is 37% certain that patient will not comme(now we can think about it)\n",
    "NPV = 200/(327+200)\n",
    "print(NPV)"
   ]
  },
  {
   "cell_type": "code",
   "execution_count": 64,
   "metadata": {
    "collapsed": false
   },
   "outputs": [
    {
     "data": {
      "text/plain": [
       "MultinomialNB(alpha=1.0, class_prior=None, fit_prior=True)"
      ]
     },
     "execution_count": 64,
     "metadata": {},
     "output_type": "execute_result"
    }
   ],
   "source": [
    "clf"
   ]
  },
  {
   "cell_type": "code",
   "execution_count": 66,
   "metadata": {
    "collapsed": false
   },
   "outputs": [
    {
     "data": {
      "text/plain": [
       "{'alpha': 1.0, 'class_prior': None, 'fit_prior': True}"
      ]
     },
     "execution_count": 66,
     "metadata": {},
     "output_type": "execute_result"
    }
   ],
   "source": [
    "clf.get_params()"
   ]
  },
  {
   "cell_type": "code",
   "execution_count": 71,
   "metadata": {
    "collapsed": true
   },
   "outputs": [],
   "source": [
    "alpha = [1,.1,.01,.001]\n",
    "grid_param = dict(alpha = alpha)\n",
    "KFold = StratifiedKFold(n_splits=10,shuffle=True,random_state=7)\n",
    "grid_search = GridSearchCV(clf,grid_param,scoring=\"neg_log_loss\",n_jobs=-1,cv=kFold)\n",
    "results = grid_search.fit(XTrain,YTrain)"
   ]
  },
  {
   "cell_type": "code",
   "execution_count": 72,
   "metadata": {
    "collapsed": false
   },
   "outputs": [
    {
     "name": "stdout",
     "output_type": "stream",
     "text": [
      "-0.487298683868 {'alpha': 1}\n"
     ]
    }
   ],
   "source": [
    "print(results.best_score_ , results.best_params_)"
   ]
  },
  {
   "cell_type": "code",
   "execution_count": 77,
   "metadata": {
    "collapsed": false
   },
   "outputs": [
    {
     "name": "stdout",
     "output_type": "stream",
     "text": [
      "Accuracy: 78.0 %\n"
     ]
    }
   ],
   "source": [
    "clf =  MultinomialNB(alpha=.01).fit(XTrain, YTrain)\n",
    "print('Accuracy:', round(accuracy_score(YTest, \n",
    "                                        clf.predict(XTest)), 2) * 100, '%')"
   ]
  },
  {
   "cell_type": "code",
   "execution_count": 78,
   "metadata": {
    "collapsed": false
   },
   "outputs": [
    {
     "data": {
      "text/html": [
       "<div>\n",
       "<style>\n",
       "    .dataframe thead tr:only-child th {\n",
       "        text-align: right;\n",
       "    }\n",
       "\n",
       "    .dataframe thead th {\n",
       "        text-align: left;\n",
       "    }\n",
       "\n",
       "    .dataframe tbody tr th {\n",
       "        vertical-align: top;\n",
       "    }\n",
       "</style>\n",
       "<table border=\"1\" class=\"dataframe\">\n",
       "  <thead>\n",
       "    <tr style=\"text-align: right;\">\n",
       "      <th>Predicted</th>\n",
       "      <th>0</th>\n",
       "      <th>1</th>\n",
       "      <th>All</th>\n",
       "    </tr>\n",
       "    <tr>\n",
       "      <th>Actual</th>\n",
       "      <th></th>\n",
       "      <th></th>\n",
       "      <th></th>\n",
       "    </tr>\n",
       "  </thead>\n",
       "  <tbody>\n",
       "    <tr>\n",
       "      <th>0</th>\n",
       "      <td>10759</td>\n",
       "      <td>303</td>\n",
       "      <td>11062</td>\n",
       "    </tr>\n",
       "    <tr>\n",
       "      <th>1</th>\n",
       "      <td>2760</td>\n",
       "      <td>178</td>\n",
       "      <td>2938</td>\n",
       "    </tr>\n",
       "    <tr>\n",
       "      <th>All</th>\n",
       "      <td>13519</td>\n",
       "      <td>481</td>\n",
       "      <td>14000</td>\n",
       "    </tr>\n",
       "  </tbody>\n",
       "</table>\n",
       "</div>"
      ],
      "text/plain": [
       "Predicted      0    1    All\n",
       "Actual                      \n",
       "0          10759  303  11062\n",
       "1           2760  178   2938\n",
       "All        13519  481  14000"
      ]
     },
     "execution_count": 78,
     "metadata": {},
     "output_type": "execute_result"
    }
   ],
   "source": [
    "pd.crosstab(YTest,clf.predict(XTest),rownames=['Actual'], colnames=['Predicted'], margins=True)"
   ]
  },
  {
   "cell_type": "code",
   "execution_count": 20,
   "metadata": {
    "collapsed": true
   },
   "outputs": [],
   "source": [
    "from sklearn.neighbors import KNeighborsClassifier\n",
    "from sklearn.model_selection import StratifiedKFold\n",
    "from sklearn.model_selection import GridSearchCV"
   ]
  },
  {
   "cell_type": "code",
   "execution_count": 21,
   "metadata": {
    "collapsed": false
   },
   "outputs": [
    {
     "data": {
      "text/plain": [
       "GridSearchCV(cv=StratifiedKFold(n_splits=10, random_state=7, shuffle=True),\n",
       "       error_score='raise',\n",
       "       estimator=KNeighborsClassifier(algorithm='auto', leaf_size=30, metric='minkowski',\n",
       "           metric_params=None, n_jobs=1, n_neighbors=5, p=2,\n",
       "           weights='uniform'),\n",
       "       fit_params=None, iid=True, n_jobs=-1,\n",
       "       param_grid={'n_neighbors': [1, 2, 4, 8, 16, 32, 64, 128]},\n",
       "       pre_dispatch='2*n_jobs', refit=True, return_train_score='warn',\n",
       "       scoring='neg_log_loss', verbose=0)"
      ]
     },
     "execution_count": 21,
     "metadata": {},
     "output_type": "execute_result"
    }
   ],
   "source": [
    "KModel = KNeighborsClassifier()\n",
    "n_neighbors = [pow(2,x) for x in range(0,8)]\n",
    "param_grid =dict(n_neighbors=n_neighbors)\n",
    "kCv = StratifiedKFold(n_splits=10,shuffle=True,random_state=7)\n",
    "modelGridSearch = GridSearchCV(KModel,param_grid,scoring=\"neg_log_loss\",cv=kCv,n_jobs=-1)\n",
    "modelGridSearch.fit(XTrain,YTrain)"
   ]
  },
  {
   "cell_type": "code",
   "execution_count": 22,
   "metadata": {
    "collapsed": false
   },
   "outputs": [
    {
     "data": {
      "text/html": [
       "<div>\n",
       "<style>\n",
       "    .dataframe thead tr:only-child th {\n",
       "        text-align: right;\n",
       "    }\n",
       "\n",
       "    .dataframe thead th {\n",
       "        text-align: left;\n",
       "    }\n",
       "\n",
       "    .dataframe tbody tr th {\n",
       "        vertical-align: top;\n",
       "    }\n",
       "</style>\n",
       "<table border=\"1\" class=\"dataframe\">\n",
       "  <thead>\n",
       "    <tr style=\"text-align: right;\">\n",
       "      <th>Predicted</th>\n",
       "      <th>0</th>\n",
       "      <th>All</th>\n",
       "    </tr>\n",
       "    <tr>\n",
       "      <th>Actual</th>\n",
       "      <th></th>\n",
       "      <th></th>\n",
       "    </tr>\n",
       "  </thead>\n",
       "  <tbody>\n",
       "    <tr>\n",
       "      <th>0</th>\n",
       "      <td>11062</td>\n",
       "      <td>11062</td>\n",
       "    </tr>\n",
       "    <tr>\n",
       "      <th>1</th>\n",
       "      <td>2938</td>\n",
       "      <td>2938</td>\n",
       "    </tr>\n",
       "    <tr>\n",
       "      <th>All</th>\n",
       "      <td>14000</td>\n",
       "      <td>14000</td>\n",
       "    </tr>\n",
       "  </tbody>\n",
       "</table>\n",
       "</div>"
      ],
      "text/plain": [
       "Predicted      0    All\n",
       "Actual                 \n",
       "0          11062  11062\n",
       "1           2938   2938\n",
       "All        14000  14000"
      ]
     },
     "execution_count": 22,
     "metadata": {},
     "output_type": "execute_result"
    }
   ],
   "source": [
    "KModel = modelGridSearch\n",
    "prediction = KModel.predict(XTest)\n",
    "pd.crosstab(YTest,prediction,rownames=['Actual'], colnames=['Predicted'], margins=True)"
   ]
  },
  {
   "cell_type": "code",
   "execution_count": 23,
   "metadata": {
    "collapsed": false
   },
   "outputs": [
    {
     "name": "stdout",
     "output_type": "stream",
     "text": [
      "             precision    recall  f1-score   support\n",
      "\n",
      "          0       0.79      1.00      0.88     11062\n",
      "          1       0.00      0.00      0.00      2938\n",
      "\n",
      "avg / total       0.62      0.79      0.70     14000\n",
      "\n"
     ]
    },
    {
     "name": "stderr",
     "output_type": "stream",
     "text": [
      "C:\\Users\\anurag dubey\\Anaconda3\\lib\\site-packages\\sklearn\\metrics\\classification.py:1135: UndefinedMetricWarning: Precision and F-score are ill-defined and being set to 0.0 in labels with no predicted samples.\n",
      "  'precision', 'predicted', average, warn_for)\n"
     ]
    }
   ],
   "source": [
    "from sklearn.metrics import classification_report\n",
    "print(classification_report(YTest,prediction))"
   ]
  },
  {
   "cell_type": "code",
   "execution_count": 25,
   "metadata": {
    "collapsed": true
   },
   "outputs": [],
   "source": [
    "#stacking \n",
    "from sklearn.ensemble import RandomForestClassifier,AdaBoostClassifier,ExtraTreesClassifier,GradientBoostingClassifier\n",
    "from sklearn.svm import SVC\n",
    "\n"
   ]
  },
  {
   "cell_type": "code",
   "execution_count": 26,
   "metadata": {
    "collapsed": true
   },
   "outputs": [],
   "source": [
    "class skLearnerHelper(object):\n",
    "    def __init__(self,clf,seed=0,params=None):\n",
    "        params[\"random_state\"] = seed\n",
    "        self.clf = clf(**params)\n",
    "    def train(self, Xtrain,Ytrain):\n",
    "        self.clf.fit(Xtrain,Ytrain)\n",
    "    def fit(self,X,Y):\n",
    "        return self.clf.fit(X,Y)\n",
    "    def predict(self,Xtest):\n",
    "        return self.clf.predict(Xtest)\n",
    "    def featureImportances(self,X,Y):\n",
    "        return self.clf.fit(X,Y).feature_importances_"
   ]
  },
  {
   "cell_type": "code",
   "execution_count": 1,
   "metadata": {
    "collapsed": false
   },
   "outputs": [
    {
     "ename": "NameError",
     "evalue": "name 'train' is not defined",
     "output_type": "error",
     "traceback": [
      "\u001b[1;31m---------------------------------------------------------------------------\u001b[0m",
      "\u001b[1;31mNameError\u001b[0m                                 Traceback (most recent call last)",
      "\u001b[1;32m<ipython-input-1-c6dd2d47bdb4>\u001b[0m in \u001b[0;36m<module>\u001b[1;34m()\u001b[0m\n\u001b[0;32m      1\u001b[0m \u001b[1;31m# Some useful parameters which will come in handy later on\u001b[0m\u001b[1;33m\u001b[0m\u001b[1;33m\u001b[0m\u001b[0m\n\u001b[1;32m----> 2\u001b[1;33m \u001b[0mntrain\u001b[0m \u001b[1;33m=\u001b[0m \u001b[0mtrain\u001b[0m\u001b[1;33m.\u001b[0m\u001b[0mshape\u001b[0m\u001b[1;33m[\u001b[0m\u001b[1;36m0\u001b[0m\u001b[1;33m]\u001b[0m\u001b[1;33m\u001b[0m\u001b[0m\n\u001b[0m\u001b[0;32m      3\u001b[0m \u001b[0mntest\u001b[0m \u001b[1;33m=\u001b[0m \u001b[0mtest\u001b[0m\u001b[1;33m.\u001b[0m\u001b[0mshape\u001b[0m\u001b[1;33m[\u001b[0m\u001b[1;36m0\u001b[0m\u001b[1;33m]\u001b[0m\u001b[1;33m\u001b[0m\u001b[0m\n\u001b[0;32m      4\u001b[0m \u001b[0mSEED\u001b[0m \u001b[1;33m=\u001b[0m \u001b[1;36m0\u001b[0m \u001b[1;31m# for reproducibility\u001b[0m\u001b[1;33m\u001b[0m\u001b[0m\n\u001b[0;32m      5\u001b[0m \u001b[0mNFOLDS\u001b[0m \u001b[1;33m=\u001b[0m \u001b[1;36m5\u001b[0m \u001b[1;31m# set folds for out-of-fold prediction\u001b[0m\u001b[1;33m\u001b[0m\u001b[0m\n",
      "\u001b[1;31mNameError\u001b[0m: name 'train' is not defined"
     ]
    }
   ],
   "source": [
    "kFold = StratifiedKFold(n_splits=5,shuffle=True,random_state=0)"
   ]
  },
  {
   "cell_type": "code",
   "execution_count": 27,
   "metadata": {
    "collapsed": true
   },
   "outputs": [],
   "source": [
    "data =pd.read_csv(\"D:/CBA/FA/data.csv\")"
   ]
  },
  {
   "cell_type": "code",
   "execution_count": 28,
   "metadata": {
    "collapsed": true
   },
   "outputs": [],
   "source": [
    "from sklearn.preprocessing import OneHotEncoder\n",
    "encoder = OneHotEncoder()"
   ]
  },
  {
   "cell_type": "code",
   "execution_count": 29,
   "metadata": {
    "collapsed": false
   },
   "outputs": [
    {
     "data": {
      "text/plain": [
       "Month                object\n",
       "Ridership ('000)      int64\n",
       "ln(ridership)       float64\n",
       "t                     int64\n",
       "t2                    int64\n",
       "dtype: object"
      ]
     },
     "execution_count": 29,
     "metadata": {},
     "output_type": "execute_result"
    }
   ],
   "source": [
    "data.dtypes"
   ]
  },
  {
   "cell_type": "code",
   "execution_count": 19,
   "metadata": {
    "collapsed": true
   },
   "outputs": [],
   "source": [
    "#let's check for class imbalance\n",
    "Y_New.value_counts()\n",
    "Y_Trans = labelEncoder.fit_transform(Y_New)\n",
    "XTrain,XTest,YTrain,YTest = train_test_split(TrainS,Y_Trans,test_size = 0.2,random_state = 7)\n"
   ]
  },
  {
   "cell_type": "code",
   "execution_count": 25,
   "metadata": {
    "collapsed": false
   },
   "outputs": [
    {
     "name": "stderr",
     "output_type": "stream",
     "text": [
      "C:\\Users\\anurag dubey\\Anaconda3\\lib\\site-packages\\sklearn\\utils\\deprecation.py:77: DeprecationWarning: Function _ratio_float is deprecated; Use a float for 'ratio' is deprecated from version 0.2. The support will be removed in 0.4. Use a dict, str, or a callable instead.\n",
      "  warnings.warn(msg, category=DeprecationWarning)\n"
     ]
    }
   ],
   "source": [
    "sm = SMOTE(random_state=7,ratio=1)\n",
    "XTrain_smo, YTrain_smo = sm.fit_sample(XTrain,YTrain)"
   ]
  },
  {
   "cell_type": "code",
   "execution_count": 26,
   "metadata": {
    "collapsed": false
   },
   "outputs": [
    {
     "data": {
      "text/plain": [
       "array([1, 0, 0, ..., 1, 1, 1], dtype=int64)"
      ]
     },
     "execution_count": 26,
     "metadata": {},
     "output_type": "execute_result"
    }
   ],
   "source": [
    "YTrain_smo."
   ]
  },
  {
   "cell_type": "code",
   "execution_count": 27,
   "metadata": {
    "collapsed": false
   },
   "outputs": [
    {
     "name": "stdout",
     "output_type": "stream",
     "text": [
      "XGBClassifier(base_score=0.5, booster='gbtree', colsample_bylevel=1,\n",
      "       colsample_bytree=1, gamma=0, learning_rate=0.1, max_delta_step=0,\n",
      "       max_depth=3, min_child_weight=1, missing=None, n_estimators=100,\n",
      "       n_jobs=1, nthread=None, objective='binary:logistic', random_state=0,\n",
      "       reg_alpha=0, reg_lambda=1, scale_pos_weight=1, seed=None,\n",
      "       silent=True, subsample=1)\n"
     ]
    }
   ],
   "source": [
    "model = XGBClassifier()\n",
    "model.fit(XTrain,YTrain)\n",
    "print(model)"
   ]
  },
  {
   "cell_type": "code",
   "execution_count": 39,
   "metadata": {
    "collapsed": false
   },
   "outputs": [
    {
     "name": "stdout",
     "output_type": "stream",
     "text": [
      "0.790142857143\n",
      "[[11054     8]\n",
      " [ 2930     8]]\n",
      "11054 8 2930 8\n",
      "             precision    recall  f1-score   support\n",
      "\n",
      "          0       0.79      1.00      0.88     11062\n",
      "          1       0.50      0.00      0.01      2938\n",
      "\n",
      "avg / total       0.73      0.79      0.70     14000\n",
      "\n"
     ]
    }
   ],
   "source": [
    "predcited =model.predict(XTest)\n",
    "predctions  =[round(value) for value in predcited]\n",
    "accuracy = (accuracy_score(YTest,predctions))\n",
    "print(accuracy)\n",
    "from sklearn.metrics import confusion_matrix\n",
    "Tp,FN,FP,TN =confusion_matrix(YTest,predctions).ravel()\n",
    "print (confusion_matrix(YTest,predctions))\n",
    "print (Tp,FN,FP,TN )\n",
    "from sklearn.metrics import classification_report\n",
    "print(classification_report(YTest,predctions))"
   ]
  },
  {
   "cell_type": "code",
   "execution_count": 37,
   "metadata": {
    "collapsed": false
   },
   "outputs": [
    {
     "data": {
      "text/plain": [
       "array([0, 0, 0, ..., 0, 0, 0], dtype=int64)"
      ]
     },
     "execution_count": 37,
     "metadata": {},
     "output_type": "execute_result"
    }
   ],
   "source": [
    "YTest"
   ]
  },
  {
   "cell_type": "code",
   "execution_count": 32,
   "metadata": {
    "collapsed": false
   },
   "outputs": [
    {
     "name": "stdout",
     "output_type": "stream",
     "text": [
      "Accuracy : 79.01%\n",
      "[[11054     8]\n",
      " [ 2930     8]]\n",
      "11054 8 2930 8\n"
     ]
    }
   ],
   "source": [
    "\n",
    "predcited = model.predict(XTest)\n",
    "predctions  =[round(value) for value in predcited]\n",
    "accuracy = (accuracy_score(YTest,predctions))\n",
    "print(\"Accuracy : %.2f%%\"%(accuracy*100))\n",
    "from sklearn.metrics import confusion_matrix\n",
    "Tp,FN,FP,TN =confusion_matrix(YTest,predctions).ravel()\n",
    "print (confusion_matrix(YTest,predctions))\n",
    "print (Tp,FN,FP,TN )"
   ]
  },
  {
   "cell_type": "code",
   "execution_count": 26,
   "metadata": {
    "collapsed": false
   },
   "outputs": [
    {
     "name": "stdout",
     "output_type": "stream",
     "text": [
      "{'bootstrap': True, 'class_weight': None, 'criterion': 'gini', 'max_depth': None, 'max_features': 'auto', 'max_leaf_nodes': None, 'min_impurity_decrease': 0.0, 'min_impurity_split': None, 'min_samples_leaf': 1, 'min_samples_split': 2, 'min_weight_fraction_leaf': 0.0, 'n_estimators': 10, 'n_jobs': 1, 'oob_score': False, 'random_state': None, 'verbose': 0, 'warm_start': False}\n"
     ]
    }
   ],
   "source": [
    "#performing parameter tuning for randome forest\n",
    "\n",
    "print (rfmodel.get_params())"
   ]
  },
  {
   "cell_type": "code",
   "execution_count": 40,
   "metadata": {
    "collapsed": true
   },
   "outputs": [],
   "source": [
    "n_estimators = [500,700,1000]\n",
    "\n",
    "max_depth = [5,7,9]\n",
    "para_dict  =dict(n_estimators=n_estimators,max_depth=max_depth)\n",
    "from sklearn.model_selection import StratifiedKFold\n",
    "from sklearn.model_selection import  GridSearchCV\n",
    "kfold = StratifiedKFold(n_splits=10,random_state=7, shuffle = True)\n",
    "gridSearch  =  GridSearchCV(rfmodel,para_dict,scoring =\"neg_log_loss\",n_jobs=-1,cv =kfold)\n",
    "results = gridSearch.fit(XTrain,YTrain)"
   ]
  },
  {
   "cell_type": "code",
   "execution_count": 42,
   "metadata": {
    "collapsed": false
   },
   "outputs": [
    {
     "name": "stdout",
     "output_type": "stream",
     "text": [
      "-0.47134059144 {'max_depth': 9, 'n_estimators': 700}\n"
     ]
    }
   ],
   "source": [
    "print (results.best_score_,results.best_params_)"
   ]
  },
  {
   "cell_type": "code",
   "execution_count": 44,
   "metadata": {
    "collapsed": false
   },
   "outputs": [
    {
     "name": "stdout",
     "output_type": "stream",
     "text": [
      "Accuracy : 79.04%\n"
     ]
    }
   ],
   "source": [
    "from sklearn.ensemble import RandomForestClassifier\n",
    "from sklearn.metrics import roc_auc_score\n",
    "rfmodel = RandomForestClassifier(max_depth=9,n_estimators=700)\n",
    "rfmodel.fit(XTrain,YTrain)\n",
    "\n",
    "predcited = rfmodel.predict(XTest)\n",
    "predctions  =[round(value) for value in predcited]\n",
    "accuracy = (accuracy_score(YTest,predctions))\n",
    "print(\"Accuracy : %.2f%%\"%(accuracy*100))   \n",
    "from sklearn.metrics import confusion_matrix\n",
    "Tp,FN,FP,TN =confusion_matrix(YTest,predctions).ravel()\n",
    "print (confusion_matrix(YTest,predctions))\n",
    "print (Tp,FN,FP,TN )\n",
    "from sklearn.metrics import classification_report\n",
    "print(classification_report(YTest,predctions))"
   ]
  },
  {
   "cell_type": "code",
   "execution_count": 45,
   "metadata": {
    "collapsed": false
   },
   "outputs": [
    {
     "name": "stdout",
     "output_type": "stream",
     "text": [
      "[[11059     3]\n",
      " [ 2932     6]]\n",
      "11059 3 2932 6\n",
      "             precision    recall  f1-score   support\n",
      "\n",
      "          0       0.79      1.00      0.88     11062\n",
      "          1       0.67      0.00      0.00      2938\n",
      "\n",
      "avg / total       0.76      0.79      0.70     14000\n",
      "\n"
     ]
    }
   ],
   "source": [
    "from sklearn.metrics import confusion_matrix\n",
    "Tp,FN,FP,TN =confusion_matrix(YTest,predctions).ravel()\n",
    "print (confusion_matrix(YTest,predctions))\n",
    "print (Tp,FN,FP,TN )\n",
    "from sklearn.metrics import classification_report\n",
    "print(classification_report(YTest,predctions))\n"
   ]
  },
  {
   "cell_type": "code",
   "execution_count": null,
   "metadata": {
    "collapsed": true
   },
   "outputs": [],
   "source": [
    "from sklearn import  svm\n",
    "svcc = svm.SVC(kernel=\"poly\",C=100,gamma=10)\n",
    "svcc.fit(XTrain,YTrain)\n",
    "\n",
    "predcited = svcc.predict(XTest)\n",
    "predctions  =[round(value) for value in predcited]\n",
    "accuracy = (accuracy_score(YTest,predctions))\n",
    "print(\"Accuracy : %.2f%%\"%(accuracy*100))   \n",
    "from sklearn.metrics import confusion_matrix\n",
    "Tp,FN,FP,TN =confusion_matrix(YTest,predctions).ravel()\n",
    "print (confusion_matrix(YTest,predctions))\n",
    "print (Tp,FN,FP,TN )\n",
    "from sklearn.metrics import classification_report\n",
    "print(classification_report(YTest,predctions))"
   ]
  },
  {
   "cell_type": "code",
   "execution_count": null,
   "metadata": {
    "collapsed": true
   },
   "outputs": [],
   "source": []
  }
 ],
 "metadata": {
  "kernelspec": {
   "display_name": "Python [default]",
   "language": "python",
   "name": "python3"
  },
  "language_info": {
   "codemirror_mode": {
    "name": "ipython",
    "version": 3
   },
   "file_extension": ".py",
   "mimetype": "text/x-python",
   "name": "python",
   "nbconvert_exporter": "python",
   "pygments_lexer": "ipython3",
   "version": "3.5.2"
  }
 },
 "nbformat": 4,
 "nbformat_minor": 2
}
